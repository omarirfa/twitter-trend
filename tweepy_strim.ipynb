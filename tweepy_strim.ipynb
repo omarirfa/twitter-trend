{
 "cells": [
  {
   "cell_type": "code",
   "execution_count": null,
   "metadata": {},
   "outputs": [],
   "source": [
    "import tweepy\n",
    "from tweepy import Stream, StreamListener, OAuthHandler\n",
    "import time\n",
    "from pyspark import SparkConf,SparkContext\n",
    "from pyspark.streaming import StreamingContext\n",
    "from pyspark.sql import Row,SQLContext\n",
    "import sys\n",
    "import requests\n",
    "import socket\n",
    "import json"
   ]
  },
  {
   "cell_type": "code",
   "execution_count": null,
   "metadata": {},
   "outputs": [],
   "source": [
    "#api key and api secret are considered oauth handler tokens for tweepy\n",
    "access_token=''\n",
    "access_token_secret=''\n",
    "#Access token and secret are considered set_access_token for tweepy\n",
    "consumer_key=''\n",
    "consumer_secret=''"
   ]
  },
  {
   "cell_type": "code",
   "execution_count": null,
   "metadata": {},
   "outputs": [],
   "source": [
    "class TweetsListener(StreamListener):\n",
    "  # tweet object listens for the tweets\n",
    "    def __init__(self, csocket):\n",
    "        self.client_socket = csocket\n",
    "    def on_data(self, data):\n",
    "        try:  \n",
    "            msg = json.loads( data )\n",
    "            print(\"new message\")\n",
    "           # if tweet is longer than 140 characters\n",
    "            if \"extended_tweet\" in msg:\n",
    "            # add at the end of each tweet \"t_end\" \n",
    "                self.client_socket\\\n",
    "                    .send(str(msg['extended_tweet']['full_text']+\"t_end\")\\\n",
    "                    .encode('utf-8'))         \n",
    "                print(msg['extended_tweet']['full_text'])\n",
    "            else:\n",
    "            # add at the end of each tweet \"t_end\" \n",
    "                self.client_socket\\\n",
    "                    .send(str(msg['text']+\"t_end\")\\\n",
    "                    .encode('utf-8'))\n",
    "                print(msg['text'])\n",
    "            return True\n",
    "        except BaseException as e:\n",
    "            print(\"Error on_data: %s\" % str(e))\n",
    "        return True\n",
    "    def on_error(self, status):\n",
    "        print(status)\n",
    "        return True"
   ]
  },
  {
   "cell_type": "code",
   "execution_count": null,
   "metadata": {},
   "outputs": [],
   "source": [
    "def sendData(client_sock):\n",
    "    print('start sending data from Twitter to socket')\n",
    "    #authentication based on the credentials\n",
    "    auth = tweepy.OAuthHandler(access_token, access_token_secret)\n",
    "    auth.set_access_token(consumer_key, consumer_secret)\n",
    "    # start sending data from the Streaming API \n",
    "    keywords = [\"#\"]\n",
    "    twitter_stream = Stream(auth, TweetsListener(client_sock))\n",
    "    twitter_stream.filter(track = keywords, languages=[\"en\"])"
   ]
  },
  {
   "cell_type": "code",
   "execution_count": null,
   "metadata": {},
   "outputs": [],
   "source": [
    "s = socket.socket()\n",
    "host = \"localhost\"    \n",
    "port = 9009\n",
    "s.bind((host, port))\n",
    "print('socket is ready')\n",
    "s.listen(4)\n",
    "s.settimeout(20)\n",
    "print('socket is listening')\n",
    "client_sock, addr = s.accept()\n",
    "print(\"Received request from: \" + str(addr))\n",
    "sendData(client_sock)"
   ]
  }
 ],
 "metadata": {
  "kernelspec": {
   "display_name": "Python 3",
   "language": "python",
   "name": "python3"
  },
  "language_info": {
   "codemirror_mode": {
    "name": "ipython",
    "version": 3
   },
   "file_extension": ".py",
   "mimetype": "text/x-python",
   "name": "python",
   "nbconvert_exporter": "python",
   "pygments_lexer": "ipython3",
   "version": "3.9.1"
  }
 },
 "nbformat": 4,
 "nbformat_minor": 4
}
